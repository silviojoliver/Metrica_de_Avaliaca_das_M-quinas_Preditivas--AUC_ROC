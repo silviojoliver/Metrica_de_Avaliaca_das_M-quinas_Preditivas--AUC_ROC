{
 "cells": [
  {
   "cell_type": "markdown",
   "metadata": {
    "id": "xpmZHxI0D2PX"
   },
   "source": [
    "\n",
    "\n",
    "# <font color='Grey'> Métrica de Avaliação das Máquinas Preditivas- AUC_ROC  </font>\n",
    "\n",
    "#### **Obs**: Aprendizagem Supervisionada Binária\n"
   ]
  },
  {
   "cell_type": "markdown",
   "metadata": {
    "id": "j8sI0hu71nJM"
   },
   "source": [
    "**O que veremos nessa aula?**\n",
    "\n",
    "* Componentes da Curva ROC \n",
    "\n",
    "    - Sensibilidade  - (TPR), \n",
    "\n",
    "    - FPR            - (taxa de Falso Positivo), \n",
    "\n",
    "    - Especificidade - (taxa de verdadeiro Negativo)  \n",
    "\n",
    "    - FNR            - (Taxa de Falso Negativo)\n",
    "\n",
    "* O que é a curva AUC-ROC?\n",
    "* Como funciona a curva AUC-ROC?\n",
    "* AUC-ROC em Python na Prática\n",
    " "
   ]
  },
  {
   "cell_type": "markdown",
   "metadata": {
    "id": "QuRi3i2bu9fp"
   },
   "source": [
    "![alt text](https://miro.medium.com/max/1028/1*tMIpJr1H84Pdb1-UxtCbCw.gif)\n",
    "\n",
    "![alt text](https://miro.medium.com/max/2400/1*Dz0AhFrL2U-Y3FJA8RUpKg.gif)\n",
    "\n",
    "\n"
   ]
  },
  {
   "cell_type": "markdown",
   "metadata": {
    "id": "B4Hqnj6rCjYq"
   },
   "source": [
    "#Entendendo os Componentes da Curva ROC"
   ]
  },
  {
   "cell_type": "markdown",
   "metadata": {
    "id": "cpjUBRQNCRIQ"
   },
   "source": [
    "## ![alt text](https://miro.medium.com/max/2102/1*fxiTNIgOyvAombPJx5KGeA.png)"
   ]
  },
  {
   "cell_type": "markdown",
   "metadata": {
    "id": "PKNa6dpbDA1p"
   },
   "source": [
    "## TPR (taxa de verdadeiro positivo)/  Sentitividade ou   Recall"
   ]
  },
  {
   "cell_type": "markdown",
   "metadata": {
    "id": "k7XhE9d4DRoB"
   },
   "source": [
    "![alt text](https://cdn.analyticsvidhya.com/wp-content/uploads/2020/06/sensitivity.gif)"
   ]
  },
  {
   "cell_type": "markdown",
   "metadata": {
    "id": "RjOEIPLODlrD"
   },
   "source": [
    "## FPR (taxa de falso positivo)"
   ]
  },
  {
   "cell_type": "markdown",
   "metadata": {
    "id": "R2FPGNxPDtsL"
   },
   "source": [
    "![alt text](https://cdn.analyticsvidhya.com/wp-content/uploads/2020/06/FPR.gif)"
   ]
  },
  {
   "cell_type": "markdown",
   "metadata": {
    "id": "xU23Sh22FJEV"
   },
   "source": [
    "### Especificidade"
   ]
  },
  {
   "cell_type": "markdown",
   "metadata": {
    "id": "dTyxgYDCFPJP"
   },
   "source": [
    "![alt text](https://cdn.analyticsvidhya.com/wp-content/uploads/2020/06/Specificity.gif)"
   ]
  },
  {
   "cell_type": "markdown",
   "metadata": {
    "id": "BeQxEirDFY4q"
   },
   "source": [
    "![alt text](https://cdn.analyticsvidhya.com/wp-content/uploads/2020/04/Basic-Confusion-matrix.png)"
   ]
  },
  {
   "cell_type": "markdown",
   "metadata": {
    "id": "Ahcd7HczGBoU"
   },
   "source": [
    "### FNR - Taxa de Falso Negativo"
   ]
  },
  {
   "cell_type": "markdown",
   "metadata": {
    "id": "Gev3FG--Ga_k"
   },
   "source": [
    "![alt text](https://cdn.analyticsvidhya.com/wp-content/uploads/2020/06/FNR.gif)"
   ]
  },
  {
   "cell_type": "markdown",
   "metadata": {
    "id": "OxlvemLJEpSg"
   },
   "source": [
    "# AUC - Area Under the Curve (ROC)"
   ]
  },
  {
   "cell_type": "markdown",
   "metadata": {
    "id": "A0ZdWS8KEv_1"
   },
   "source": [
    "![alt text](https://cdn.analyticsvidhya.com/wp-content/uploads/2020/06/AUC1.png)"
   ]
  },
  {
   "cell_type": "markdown",
   "metadata": {
    "id": "uKvCoukDInRV"
   },
   "source": [
    "### 1 - Problema de Negócio: Calcular a AUC_ROC"
   ]
  },
  {
   "cell_type": "markdown",
   "metadata": {
    "id": "jyOpEj9mIG6x"
   },
   "source": [
    "### 2 - Análise/Fonte de Dados"
   ]
  },
  {
   "cell_type": "code",
   "execution_count": 1,
   "metadata": {
    "id": "197HB5LuuOkE"
   },
   "outputs": [],
   "source": [
    "# auc roc curve\n",
    "\n",
    "from sklearn.datasets import make_classification # Carrega uma massa de dados/ make_classification\n",
    "from sklearn.model_selection import train_test_split # Separa dados de treinamento e teste\n",
    "\n"
   ]
  },
  {
   "cell_type": "markdown",
   "metadata": {
    "id": "zLIXXh7gINx1"
   },
   "source": [
    "### 3 - Pré-Processamento"
   ]
  },
  {
   "cell_type": "code",
   "execution_count": 2,
   "metadata": {
    "id": "pQygGx-gHzZf"
   },
   "outputs": [],
   "source": [
    "# generate two class dataset\n",
    "X, y = make_classification(n_samples=1000, n_classes=2, n_features=20, random_state=27)\n",
    "\n",
    "# split into train-test sets\n",
    "X_train, X_test, y_train, y_test = train_test_split(X, y, test_size=0.3, random_state=27)\n",
    "\n",
    "\n",
    "\n"
   ]
  },
  {
   "cell_type": "code",
   "execution_count": 3,
   "metadata": {
    "id": "bjFlD7fwUZly"
   },
   "outputs": [
    {
     "data": {
      "text/plain": [
       "array([[ 1.80184652e+00, -3.05409573e-01, -1.36181156e+00, ...,\n",
       "         1.75838081e+00,  6.65014887e-01, -1.11518375e+00],\n",
       "       [ 2.77004619e-01, -8.70119969e-01,  9.96219012e-02, ...,\n",
       "         1.11306528e+00, -1.27405890e+00,  1.87486996e-03],\n",
       "       [-7.13887927e-01, -2.68732324e-01,  1.25697709e-01, ...,\n",
       "         4.36011401e-01, -1.52041444e+00, -8.35442999e-01],\n",
       "       ...,\n",
       "       [-5.90565478e-01, -9.83420382e-01, -5.95570642e-01, ...,\n",
       "         2.08745145e-03, -4.04990235e-01, -1.77286149e-03],\n",
       "       [-2.56158789e-01,  7.26480959e-01, -1.42564512e+00, ...,\n",
       "         1.18806159e+00, -6.75866294e-01, -6.44778511e-02],\n",
       "       [ 6.02483848e-01,  1.36921840e+00,  6.36990314e-01, ...,\n",
       "         6.51715759e-01, -7.79588362e-01, -3.99418767e-01]])"
      ]
     },
     "execution_count": 3,
     "metadata": {},
     "output_type": "execute_result"
    }
   ],
   "source": [
    "X_train"
   ]
  },
  {
   "cell_type": "markdown",
   "metadata": {
    "id": "pTvorSv1IQyK"
   },
   "source": [
    "### 4 - Criação da Máquina Preditiva"
   ]
  },
  {
   "cell_type": "code",
   "execution_count": 4,
   "metadata": {
    "id": "MlA8Nq0LH5ag"
   },
   "outputs": [],
   "source": [
    "# train models\n",
    "from sklearn.linear_model import LogisticRegression \n",
    "from sklearn.neighbors import KNeighborsClassifier \n",
    "\n",
    "# logistic regression\n",
    "model1 = LogisticRegression()\n",
    "# knn\n",
    "model2 = KNeighborsClassifier(n_neighbors=4)\n",
    "\n",
    "# fit model\n",
    "model1.fit(X_train, y_train)\n",
    "model2.fit(X_train, y_train)\n",
    "\n",
    "# predict probabilities\n",
    "pred_prob1 = model1.predict_proba(X_test)\n",
    "pred_prob2 = model2.predict_proba(X_test)\n",
    "\n",
    "\n"
   ]
  },
  {
   "cell_type": "markdown",
   "metadata": {
    "id": "zntllGJ2IVZv"
   },
   "source": [
    "### 5 - Avaliação da Máquina"
   ]
  },
  {
   "cell_type": "code",
   "execution_count": 5,
   "metadata": {
    "id": "TxPrgY1kH9I0"
   },
   "outputs": [],
   "source": [
    "from sklearn.metrics import roc_curve\n",
    "\n",
    "# roc curve for models\n",
    "fpr1, tpr1, thresh1 = roc_curve(y_test, pred_prob1[:,1], pos_label=1)\n",
    "fpr2, tpr2, thresh2 = roc_curve(y_test, pred_prob2[:,1], pos_label=1)\n",
    "\n",
    "# roc curve for tpr = fpr \n",
    "random_probs = [0 for i in range(len(y_test))]\n",
    "p_fpr, p_tpr, _ = roc_curve(y_test, random_probs, pos_label=1)\n",
    "\n",
    "\n"
   ]
  },
  {
   "cell_type": "code",
   "execution_count": 6,
   "metadata": {
    "colab": {
     "base_uri": "https://localhost:8080/",
     "height": 376
    },
    "id": "VagI8i8j0N0N",
    "outputId": "defba640-3cee-4fad-975c-2156a6ebd532"
   },
   "outputs": [
    {
     "data": {
      "image/png": "[encoded data removed]",
      "text/plain": [
       "<Figure size 576x396 with 1 Axes>"
      ]
     },
     "metadata": {},
     "output_type": "display_data"
    }
   ],
   "source": [
    "# multi-class classification\n",
    "import matplotlib.pyplot as plt\n",
    "# matplotlib\n",
    "import matplotlib.pyplot as plt\n",
    "plt.style.use('seaborn')\n",
    "\n",
    "# plot roc curves\n",
    "plt.plot(fpr1, tpr1, linestyle='--',color='orange', label='Logistic Regression')\n",
    "plt.plot(fpr2, tpr2, linestyle='--',color='green', label='KNN')\n",
    "plt.plot(p_fpr, p_tpr, linestyle='--', color='blue')\n",
    "# title\n",
    "plt.title('ROC curve')\n",
    "# x label\n",
    "plt.xlabel('False Positive Rate')\n",
    "# y label\n",
    "plt.ylabel('True Positive rate')\n",
    "\n",
    "plt.legend(loc='best')\n",
    "plt.savefig('ROC',dpi=300)\n",
    "plt.show();"
   ]
  },
  {
   "cell_type": "code",
   "execution_count": 7,
   "metadata": {
    "colab": {
     "base_uri": "https://localhost:8080/"
    },
    "id": "pajKLltXICFR",
    "outputId": "206e66eb-f8a4-4b8b-f68c-9478d1b62e37"
   },
   "outputs": [
    {
     "name": "stdout",
     "output_type": "stream",
     "text": [
      "0.9762374461979914 0.9233769727403157\n"
     ]
    }
   ],
   "source": [
    "from sklearn.metrics import roc_auc_score\n",
    "\n",
    "# auc scores\n",
    "auc_score1 = roc_auc_score(y_test, pred_prob1[:,1])\n",
    "auc_score2 = roc_auc_score(y_test, pred_prob2[:,1])\n",
    "\n",
    "print(auc_score1, auc_score2)"
   ]
  },
  {
   "cell_type": "markdown",
   "metadata": {
    "id": "HPoQzv8pCM39"
   },
   "source": [
    "\n",
    "![alt text](https://www.spectrumnews.org/wp-content/uploads/2016/08/fig-3-1.gif)\n"
   ]
  },
  {
   "cell_type": "markdown",
   "metadata": {
    "id": "SLF6vuqmxTUL"
   },
   "source": [
    "# Fim"
   ]
  }
 ],
 "metadata": {
  "colab": {
   "collapsed_sections": [
    "jyOpEj9mIG6x",
    "zLIXXh7gINx1",
    "pTvorSv1IQyK",
    "zntllGJ2IVZv"
   ],
   "name": "AUC_ROC Métrica de Avaliação das Máquinas Preditivas.ipynb",
   "provenance": []
  },
  "kernelspec": {
   "display_name": "Python 3",
   "language": "python",
   "name": "python3"
  },
  "language_info": {
   "codemirror_mode": {
    "name": "ipython",
    "version": 3
   },
   "file_extension": ".py",
   "mimetype": "text/x-python",
   "name": "python",
   "nbconvert_exporter": "python",
   "pygments_lexer": "ipython3",
   "version": "3.8.5"
  }
 },
 "nbformat": 4,
 "nbformat_minor": 1
}
